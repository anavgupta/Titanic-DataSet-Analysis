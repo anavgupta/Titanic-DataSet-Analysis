{
 "cells": [
  {
   "cell_type": "markdown",
   "metadata": {},
   "source": [
    "# Introduction\n",
    "\n",
    "The Titanic data Contains demographics and passenger information from 891 of the 2224 passengers and crew on board the Titanic Ship. \n",
    "<br/>\n",
    "Data includes the following details for each of the passengers.\n",
    "\n",
    "* PassengerId : Unique Numerical ID of the Passenger\n",
    "* Survived   :     Survival\n",
    "    (0 = No; 1 = Yes)\n",
    "* Pclass     :     Passenger Class\n",
    "    (1 = 1st; 2 = 2nd; 3 = 3rd)\n",
    "* Name       :     Name\n",
    "* Sex        :     Sex\n",
    "* Age        :     Age\n",
    "* Sibsp      :     Number of Siblings/Spouses Aboard\n",
    "* Parch      :     Number of Parents/Children Aboard\n",
    "* Ticket     :     Ticket Number\n",
    "* Fare       :     Passenger Fare\n",
    "* Cabin      :     Cabin\n",
    "* Embarked   :     Port of Embarkation\n",
    "     (C = Cherbourg; Q = Queenstown; S = Southampton)\n"
   ]
  },
  {
   "cell_type": "markdown",
   "metadata": {},
   "source": [
    "## Analyze the data\n",
    "\n",
    "After analyzing the data, we could answer following set of questions form the data available.\n",
    "\n",
    "1. What factors made people more likely to survive ?\n",
    "2. How is Fare related to Pclass ?\n",
    "3. Does Point to Embarkation had any impact on the survival of a person ?"
   ]
  },
  {
   "cell_type": "markdown",
   "metadata": {},
   "source": [
    "## Independent Variables\n",
    "\n",
    "1. Name\n",
    "2. Age\n",
    "3. Sex\n",
    "4. Pclass\n",
    "5. Embarked\n",
    "\n"
   ]
  },
  {
   "cell_type": "markdown",
   "metadata": {},
   "source": [
    "## Dependent Variable\n",
    "1. Survived\n",
    "2. Fare"
   ]
  },
  {
   "cell_type": "markdown",
   "metadata": {},
   "source": [
    "## Loading the Data"
   ]
  },
  {
   "cell_type": "code",
   "execution_count": 45,
   "metadata": {
    "collapsed": true
   },
   "outputs": [],
   "source": [
    "# Imports\n",
    "\n",
    "import pandas as pd\n",
    "import numpy as np\n",
    "\n",
    "import matplotlib.pyplot as plt\n",
    "import seaborn as sns\n",
    "sns.set_style('whitegrid')\n",
    "%matplotlib inline"
   ]
  },
  {
   "cell_type": "code",
   "execution_count": 46,
   "metadata": {
    "collapsed": false
   },
   "outputs": [
    {
     "data": {
      "text/html": [
       "<div>\n",
       "<table border=\"1\" class=\"dataframe\">\n",
       "  <thead>\n",
       "    <tr style=\"text-align: right;\">\n",
       "      <th></th>\n",
       "      <th>PassengerId</th>\n",
       "      <th>Survived</th>\n",
       "      <th>Pclass</th>\n",
       "      <th>Name</th>\n",
       "      <th>Sex</th>\n",
       "      <th>Age</th>\n",
       "      <th>SibSp</th>\n",
       "      <th>Parch</th>\n",
       "      <th>Ticket</th>\n",
       "      <th>Fare</th>\n",
       "      <th>Cabin</th>\n",
       "      <th>Embarked</th>\n",
       "    </tr>\n",
       "  </thead>\n",
       "  <tbody>\n",
       "    <tr>\n",
       "      <th>0</th>\n",
       "      <td>1</td>\n",
       "      <td>0</td>\n",
       "      <td>3</td>\n",
       "      <td>Braund, Mr. Owen Harris</td>\n",
       "      <td>male</td>\n",
       "      <td>22.0</td>\n",
       "      <td>1</td>\n",
       "      <td>0</td>\n",
       "      <td>A/5 21171</td>\n",
       "      <td>7.2500</td>\n",
       "      <td>NaN</td>\n",
       "      <td>S</td>\n",
       "    </tr>\n",
       "    <tr>\n",
       "      <th>1</th>\n",
       "      <td>2</td>\n",
       "      <td>1</td>\n",
       "      <td>1</td>\n",
       "      <td>Cumings, Mrs. John Bradley (Florence Briggs Th...</td>\n",
       "      <td>female</td>\n",
       "      <td>38.0</td>\n",
       "      <td>1</td>\n",
       "      <td>0</td>\n",
       "      <td>PC 17599</td>\n",
       "      <td>71.2833</td>\n",
       "      <td>C85</td>\n",
       "      <td>C</td>\n",
       "    </tr>\n",
       "    <tr>\n",
       "      <th>2</th>\n",
       "      <td>3</td>\n",
       "      <td>1</td>\n",
       "      <td>3</td>\n",
       "      <td>Heikkinen, Miss. Laina</td>\n",
       "      <td>female</td>\n",
       "      <td>26.0</td>\n",
       "      <td>0</td>\n",
       "      <td>0</td>\n",
       "      <td>STON/O2. 3101282</td>\n",
       "      <td>7.9250</td>\n",
       "      <td>NaN</td>\n",
       "      <td>S</td>\n",
       "    </tr>\n",
       "    <tr>\n",
       "      <th>3</th>\n",
       "      <td>4</td>\n",
       "      <td>1</td>\n",
       "      <td>1</td>\n",
       "      <td>Futrelle, Mrs. Jacques Heath (Lily May Peel)</td>\n",
       "      <td>female</td>\n",
       "      <td>35.0</td>\n",
       "      <td>1</td>\n",
       "      <td>0</td>\n",
       "      <td>113803</td>\n",
       "      <td>53.1000</td>\n",
       "      <td>C123</td>\n",
       "      <td>S</td>\n",
       "    </tr>\n",
       "    <tr>\n",
       "      <th>4</th>\n",
       "      <td>5</td>\n",
       "      <td>0</td>\n",
       "      <td>3</td>\n",
       "      <td>Allen, Mr. William Henry</td>\n",
       "      <td>male</td>\n",
       "      <td>35.0</td>\n",
       "      <td>0</td>\n",
       "      <td>0</td>\n",
       "      <td>373450</td>\n",
       "      <td>8.0500</td>\n",
       "      <td>NaN</td>\n",
       "      <td>S</td>\n",
       "    </tr>\n",
       "  </tbody>\n",
       "</table>\n",
       "</div>"
      ],
      "text/plain": [
       "   PassengerId  Survived  Pclass  \\\n",
       "0            1         0       3   \n",
       "1            2         1       1   \n",
       "2            3         1       3   \n",
       "3            4         1       1   \n",
       "4            5         0       3   \n",
       "\n",
       "                                                Name     Sex   Age  SibSp  \\\n",
       "0                            Braund, Mr. Owen Harris    male  22.0      1   \n",
       "1  Cumings, Mrs. John Bradley (Florence Briggs Th...  female  38.0      1   \n",
       "2                             Heikkinen, Miss. Laina  female  26.0      0   \n",
       "3       Futrelle, Mrs. Jacques Heath (Lily May Peel)  female  35.0      1   \n",
       "4                           Allen, Mr. William Henry    male  35.0      0   \n",
       "\n",
       "   Parch            Ticket     Fare Cabin Embarked  \n",
       "0      0         A/5 21171   7.2500   NaN        S  \n",
       "1      0          PC 17599  71.2833   C85        C  \n",
       "2      0  STON/O2. 3101282   7.9250   NaN        S  \n",
       "3      0            113803  53.1000  C123        S  \n",
       "4      0            373450   8.0500   NaN        S  "
      ]
     },
     "execution_count": 46,
     "metadata": {},
     "output_type": "execute_result"
    }
   ],
   "source": [
    "# Load the titanic-data.csv\n",
    "titanic_df = pd.read_csv('titanic-data.csv')\n",
    "\n",
    "# preview the data\n",
    "titanic_df.head()"
   ]
  },
  {
   "cell_type": "code",
   "execution_count": 47,
   "metadata": {
    "collapsed": false,
    "scrolled": false
   },
   "outputs": [
    {
     "name": "stdout",
     "output_type": "stream",
     "text": [
      "<class 'pandas.core.frame.DataFrame'>\n",
      "RangeIndex: 891 entries, 0 to 890\n",
      "Data columns (total 12 columns):\n",
      "PassengerId    891 non-null int64\n",
      "Survived       891 non-null int64\n",
      "Pclass         891 non-null int64\n",
      "Name           891 non-null object\n",
      "Sex            891 non-null object\n",
      "Age            714 non-null float64\n",
      "SibSp          891 non-null int64\n",
      "Parch          891 non-null int64\n",
      "Ticket         891 non-null object\n",
      "Fare           891 non-null float64\n",
      "Cabin          204 non-null object\n",
      "Embarked       889 non-null object\n",
      "dtypes: float64(2), int64(5), object(5)\n",
      "memory usage: 83.6+ KB\n"
     ]
    }
   ],
   "source": [
    "# Info about the data\n",
    "titanic_df.info()"
   ]
  },
  {
   "cell_type": "markdown",
   "metadata": {},
   "source": [
    "## Investing the Data\n",
    "\n",
    "After Investing the data we can see that some of the entries in 'Age', 'Embarked', 'Cabin' Field are not present. We must tackle this problem before doing any kind of operation on the data.\n"
   ]
  },
  {
   "cell_type": "markdown",
   "metadata": {},
   "source": [
    "## Missing Embarked field"
   ]
  },
  {
   "cell_type": "code",
   "execution_count": 48,
   "metadata": {
    "collapsed": false
   },
   "outputs": [],
   "source": [
    "max_embarking_string = titanic_df['Embarked'].max()\n",
    "\n",
    "# Replacing the two missing values in Embarked columns with the most occuring one\n",
    "titanic_df['Embarked'] = titanic_df['Embarked'].fillna(max_embarking_string)"
   ]
  },
  {
   "cell_type": "code",
   "execution_count": 49,
   "metadata": {
    "collapsed": false
   },
   "outputs": [
    {
     "name": "stdout",
     "output_type": "stream",
     "text": [
      "<class 'pandas.core.frame.DataFrame'>\n",
      "RangeIndex: 891 entries, 0 to 890\n",
      "Data columns (total 12 columns):\n",
      "PassengerId    891 non-null int64\n",
      "Survived       891 non-null int64\n",
      "Pclass         891 non-null int64\n",
      "Name           891 non-null object\n",
      "Sex            891 non-null object\n",
      "Age            714 non-null float64\n",
      "SibSp          891 non-null int64\n",
      "Parch          891 non-null int64\n",
      "Ticket         891 non-null object\n",
      "Fare           891 non-null float64\n",
      "Cabin          204 non-null object\n",
      "Embarked       891 non-null object\n",
      "dtypes: float64(2), int64(5), object(5)\n",
      "memory usage: 83.6+ KB\n"
     ]
    }
   ],
   "source": [
    "titanic_df.info()"
   ]
  },
  {
   "cell_type": "markdown",
   "metadata": {},
   "source": [
    "The point of Embarkation was missing for two persons. To complete the data set and remove the null variables, I swapped the null places with most common point of embarkation. Since only two values are missing, the result of this process will not be significant and can be dealt with. This step would result in a symmetrical dataset."
   ]
  },
  {
   "cell_type": "markdown",
   "metadata": {},
   "source": [
    "## Missing Age Field\n",
    "\n",
    "177 Data entries of the Age filed are missing. To prevent the occurance of the null values in this case, we could have filled the empty places with the average of the 'Age' field from the rest of the data. But since the no of such entries is huge, filling the empty places might effect the age dataset in the ways that are unwanted. So we end up not changing the data but dealing with the data as it is. We can work with the data present but we must not alter the behaviour of the 'Age' Field in any way possible."
   ]
  },
  {
   "cell_type": "code",
   "execution_count": 50,
   "metadata": {
    "collapsed": false
   },
   "outputs": [
    {
     "data": {
      "text/plain": [
       "29.69911764705882"
      ]
     },
     "execution_count": 50,
     "metadata": {},
     "output_type": "execute_result"
    },
    {
     "data": {
      "image/png": "[encoded data removed]",
      "text/plain": [
       "<matplotlib.figure.Figure at 0xdc712e8>"
      ]
     },
     "metadata": {},
     "output_type": "display_data"
    }
   ],
   "source": [
    "# calculating the mean of Age field\n",
    "age_mean = titanic_df['Age'].mean()\n",
    "titanic_df['Age'].hist()\n",
    "plt.title(\"Age histogram\")\n",
    "plt.ylabel('Frequency')\n",
    "plt.xlabel(\"Age\")\n",
    "age_mean"
   ]
  },
  {
   "cell_type": "code",
   "execution_count": 51,
   "metadata": {
    "collapsed": true
   },
   "outputs": [],
   "source": [
    "# titanic_df['Age'] = titanic_df['Age'].fillna(age_mean)\n",
    "# #print  titanic_df['Age'].mean()\n",
    "# titanic_df['Age'].hist()\n",
    "# plt.xlabel('Age')\n",
    "# plt.title('After fill Age Histogram')"
   ]
  },
  {
   "cell_type": "code",
   "execution_count": 52,
   "metadata": {
    "collapsed": false
   },
   "outputs": [
    {
     "name": "stdout",
     "output_type": "stream",
     "text": [
      "<class 'pandas.core.frame.DataFrame'>\n",
      "RangeIndex: 891 entries, 0 to 890\n",
      "Data columns (total 12 columns):\n",
      "PassengerId    891 non-null int64\n",
      "Survived       891 non-null int64\n",
      "Pclass         891 non-null int64\n",
      "Name           891 non-null object\n",
      "Sex            891 non-null object\n",
      "Age            714 non-null float64\n",
      "SibSp          891 non-null int64\n",
      "Parch          891 non-null int64\n",
      "Ticket         891 non-null object\n",
      "Fare           891 non-null float64\n",
      "Cabin          204 non-null object\n",
      "Embarked       891 non-null object\n",
      "dtypes: float64(2), int64(5), object(5)\n",
      "memory usage: 83.6+ KB\n"
     ]
    }
   ],
   "source": [
    "titanic_df.info()"
   ]
  },
  {
   "cell_type": "markdown",
   "metadata": {},
   "source": [
    "The 177 field of age are still missing. If we try to fill the missing values based on the mean of the age variable, the effect on the age variable is immense. The filling of the values alter the behaviour of the age variable. The effect of this is very evidently seen if we try to plot the age variable before and after the filling process.\n",
    "<br/>\n",
    "So we will not alter the age variable. In our upcomming calculations we will overlook the missing values and work only with the values that are already present."
   ]
  },
  {
   "cell_type": "markdown",
   "metadata": {},
   "source": [
    "## Cabin"
   ]
  },
  {
   "cell_type": "code",
   "execution_count": 53,
   "metadata": {
    "collapsed": true
   },
   "outputs": [],
   "source": [
    "def count(nd):\n",
    "    if (type(nd) != float):\n",
    "        return len(nd)"
   ]
  },
  {
   "cell_type": "markdown",
   "metadata": {},
   "source": [
    "Since we have multiple entries in a single cabin field, this function is to calculate the no of cabin entries povided in a single Cabin Field.\n",
    "<br/>\n",
    "We need to calculates the total number of cabin entries that are povided in the whole titanic database."
   ]
  },
  {
   "cell_type": "code",
   "execution_count": 54,
   "metadata": {
    "collapsed": false
   },
   "outputs": [
    {
     "data": {
      "text/plain": [
       "238.0"
      ]
     },
     "execution_count": 54,
     "metadata": {},
     "output_type": "execute_result"
    }
   ],
   "source": [
    "titanic_df['Cabin'].str.split(pat = ' ').apply(count).sum()"
   ]
  },
  {
   "cell_type": "markdown",
   "metadata": {},
   "source": [
    "This command calculate the total number of cabin entries that are mentionde in the Titanic database.\n",
    "<br/>\n",
    "So there are only 238 cabin entries in the Titanic Database. A lot of the data is missing and we will have to work with the provided data only. Since it won't be feasable to fill up the rest unmentioned cabin entries, we won't be able to do much of anlaysis using the Cabins."
   ]
  },
  {
   "cell_type": "markdown",
   "metadata": {
    "collapsed": true
   },
   "source": [
    "# Exploration \n",
    "\n",
    "## Fare \n",
    "\n",
    "## Statistics"
   ]
  },
  {
   "cell_type": "code",
   "execution_count": 55,
   "metadata": {
    "collapsed": false
   },
   "outputs": [
    {
     "data": {
      "text/plain": [
       "count    891.000000\n",
       "mean      32.204208\n",
       "std       49.693429\n",
       "min        0.000000\n",
       "25%        7.910400\n",
       "50%       14.454200\n",
       "75%       31.000000\n",
       "max      512.329200\n",
       "Name: Fare, dtype: float64"
      ]
     },
     "execution_count": 55,
     "metadata": {},
     "output_type": "execute_result"
    }
   ],
   "source": [
    "titanic_df['Fare'].describe()"
   ]
  },
  {
   "cell_type": "markdown",
   "metadata": {},
   "source": [
    "## Histogram"
   ]
  },
  {
   "cell_type": "code",
   "execution_count": 56,
   "metadata": {
    "collapsed": false
   },
   "outputs": [
    {
     "data": {
      "text/plain": [
       "<matplotlib.text.Text at 0xdff2320>"
      ]
     },
     "execution_count": 56,
     "metadata": {},
     "output_type": "execute_result"
    },
    {
     "data": {
      "image/png": "[encoded data removed]",
      "text/plain": [
       "<matplotlib.figure.Figure at 0xdea13c8>"
      ]
     },
     "metadata": {},
     "output_type": "display_data"
    }
   ],
   "source": [
    "fare_hist = titanic_df['Fare'].hist(bins = 20)\n",
    "plt.xlabel('Fare')\n",
    "plt.ylabel('Frequency')\n",
    "plt.title('Fare Histogram')"
   ]
  },
  {
   "cell_type": "markdown",
   "metadata": {},
   "source": [
    "The histogram that 0 to 25 seems to be most common or favourite choice for the fare of the ship. Even though there are people who gave more than 200 dolars for the ticket of the ship."
   ]
  },
  {
   "cell_type": "markdown",
   "metadata": {},
   "source": [
    "## BoxPlot"
   ]
  },
  {
   "cell_type": "code",
   "execution_count": 57,
   "metadata": {
    "collapsed": false
   },
   "outputs": [
    {
     "data": {
      "text/plain": [
       "<matplotlib.text.Text at 0xdc715f8>"
      ]
     },
     "execution_count": 57,
     "metadata": {},
     "output_type": "execute_result"
    },
    {
     "data": {
      "image/png": "[encoded data removed]",
      "text/plain": [
       "<matplotlib.figure.Figure at 0xe05a630>"
      ]
     },
     "metadata": {},
     "output_type": "display_data"
    }
   ],
   "source": [
    "bx_fare = plt.boxplot(titanic_df['Fare'], 0, 'gD')\n",
    "plt.ylabel('Fare')\n",
    "plt.title('Fare BoxPlot')"
   ]
  },
  {
   "cell_type": "markdown",
   "metadata": {},
   "source": [
    "This Box Plot shows that the Fare data contained a lot of outliers. The Titanic Ship's fare  is wide spread. This points to the point that the ship carried the person's from a diversed backgrounds. Majority of the Passengers were form weak financial Backgrounds and weren't able to afford costly tickets."
   ]
  },
  {
   "cell_type": "markdown",
   "metadata": {},
   "source": [
    "## Embarked Point"
   ]
  },
  {
   "cell_type": "code",
   "execution_count": 58,
   "metadata": {
    "collapsed": true
   },
   "outputs": [],
   "source": [
    "def embarked(df):\n",
    "    return (df.values[0],  len(df))"
   ]
  },
  {
   "cell_type": "code",
   "execution_count": 59,
   "metadata": {
    "collapsed": false
   },
   "outputs": [],
   "source": [
    "embarked_grpd = titanic_df.groupby('Embarked', as_index=False)['Embarked']\n",
    "embarked_count = embarked_grpd.apply(lambda df: len(df))\n",
    "embarked_points = embarked_grpd.apply(lambda df: df.values[0])"
   ]
  },
  {
   "cell_type": "code",
   "execution_count": 60,
   "metadata": {
    "collapsed": false
   },
   "outputs": [
    {
     "name": "stdout",
     "output_type": "stream",
     "text": [
      "[168  77 646]\n",
      "['C' 'Q' 'S']\n"
     ]
    }
   ],
   "source": [
    "print embarked_count.values\n",
    "print embarked_points.values"
   ]
  },
  {
   "cell_type": "code",
   "execution_count": 61,
   "metadata": {
    "collapsed": false
   },
   "outputs": [
    {
     "data": {
      "text/plain": [
       "<matplotlib.text.Text at 0xde84da0>"
      ]
     },
     "execution_count": 61,
     "metadata": {},
     "output_type": "execute_result"
    },
    {
     "data": {
      "image/png": "[encoded data removed]",
      "text/plain": [
       "<matplotlib.figure.Figure at 0xdc71588>"
      ]
     },
     "metadata": {},
     "output_type": "display_data"
    }
   ],
   "source": [
    "import pylab\n",
    "x = range(3)\n",
    "pylab.xticks(x, embarked_points.values)\n",
    "embarked_plot = plt.bar(x, embarked_count.values,)\n",
    "plt.xlabel('Embarcation Points')\n",
    "plt.ylabel('Counts')\n",
    "plt.title('Embarked Point')"
   ]
  },
  {
   "cell_type": "markdown",
   "metadata": {},
   "source": [
    "This bar plot shows that from the sample provided majority of the people embarked from point 'S', then from point 'C' and then in the last from point 'Q'."
   ]
  },
  {
   "cell_type": "markdown",
   "metadata": {},
   "source": [
    "## Age"
   ]
  },
  {
   "cell_type": "code",
   "execution_count": 62,
   "metadata": {
    "collapsed": false
   },
   "outputs": [
    {
     "data": {
      "text/plain": [
       "<matplotlib.text.Text at 0xdc81438>"
      ]
     },
     "execution_count": 62,
     "metadata": {},
     "output_type": "execute_result"
    },
    {
     "data": {
      "image/png": "[encoded data removed]",
      "text/plain": [
       "<matplotlib.figure.Figure at 0xe26ef28>"
      ]
     },
     "metadata": {},
     "output_type": "display_data"
    }
   ],
   "source": [
    "age_hist = titanic_df['Age'].hist(bins=16)\n",
    "plt.xlabel('Age')\n",
    "plt.ylabel('Frequency')\n",
    "plt.title('Age Histogram')"
   ]
  },
  {
   "cell_type": "markdown",
   "metadata": {},
   "source": [
    "This histogram shows that majority of the populaltion that boarded the ship were young and in 20's to 30. That young people were more inclined to travel by that ship."
   ]
  },
  {
   "cell_type": "markdown",
   "metadata": {},
   "source": [
    "## Box Plot"
   ]
  },
  {
   "cell_type": "code",
   "execution_count": 63,
   "metadata": {
    "collapsed": false,
    "scrolled": true
   },
   "outputs": [
    {
     "data": {
      "text/plain": [
       "<matplotlib.text.Text at 0xd446da0>"
      ]
     },
     "execution_count": 63,
     "metadata": {},
     "output_type": "execute_result"
    },
    {
     "data": {
      "image/png": "[encoded data removed]",
      "text/plain": [
       "<matplotlib.figure.Figure at 0xd2cd5c0>"
      ]
     },
     "metadata": {},
     "output_type": "display_data"
    }
   ],
   "source": [
    "bx_plt = titanic_df['Age'].plot(kind='box')\n",
    "plt.ylabel('Age')\n",
    "plt.title('Box Plot for Age')"
   ]
  },
  {
   "cell_type": "markdown",
   "metadata": {},
   "source": [
    "This Box Plot show that the variation in the age of passengers of the Titanic. Even though the majority of the population lie between 20 to 30, \n",
    "the age varied from a new born  to that of a 70 year old person."
   ]
  },
  {
   "cell_type": "markdown",
   "metadata": {},
   "source": [
    "## Names"
   ]
  },
  {
   "cell_type": "code",
   "execution_count": 64,
   "metadata": {
    "collapsed": false
   },
   "outputs": [],
   "source": [
    "## split split the names in the titanic based on the ','.\n",
    "names_str_split = titanic_df['Name'].str.split(',')"
   ]
  },
  {
   "cell_type": "code",
   "execution_count": 65,
   "metadata": {
    "collapsed": false
   },
   "outputs": [],
   "source": [
    "## create a df of surnames from the split name dataFrame.\n",
    "surnames = names_str_split.apply(lambda df:df[0])"
   ]
  },
  {
   "cell_type": "code",
   "execution_count": 66,
   "metadata": {
    "collapsed": false
   },
   "outputs": [
    {
     "data": {
      "text/plain": [
       "surnames    Andersson\n",
       "counts              9\n",
       "Name: 16, dtype: object"
      ]
     },
     "execution_count": 66,
     "metadata": {},
     "output_type": "execute_result"
    }
   ],
   "source": [
    "## find the most common surname among the persons who boarded the ship.\n",
    "surname_df = pd.DataFrame({'surnames': surnames.values, 'counts':[1] * len(titanic_df)})\n",
    "surname_df.groupby('surnames', as_index= False).sum().loc[16]"
   ]
  },
  {
   "cell_type": "markdown",
   "metadata": {
    "collapsed": true
   },
   "source": [
    "This shows that 'Andersson' seems to be the most common surname among the peoples that boarded the ship."
   ]
  },
  {
   "cell_type": "markdown",
   "metadata": {},
   "source": [
    "## Pclass"
   ]
  },
  {
   "cell_type": "code",
   "execution_count": 67,
   "metadata": {
    "collapsed": true
   },
   "outputs": [],
   "source": [
    "Pclass_1 = titanic_df[titanic_df['Pclass'] == 1]\n",
    "Pclass_2 = titanic_df[titanic_df['Pclass'] == 2]\n",
    "Pclass_3 = titanic_df[titanic_df['Pclass'] == 3]"
   ]
  },
  {
   "cell_type": "code",
   "execution_count": 68,
   "metadata": {
    "collapsed": false
   },
   "outputs": [
    {
     "data": {
      "text/plain": [
       "<matplotlib.text.Text at 0xe895550>"
      ]
     },
     "execution_count": 68,
     "metadata": {},
     "output_type": "execute_result"
    },
    {
     "data": {
      "image/png": "[encoded data removed]",
      "text/plain": [
       "<matplotlib.figure.Figure at 0xccae4e0>"
      ]
     },
     "metadata": {},
     "output_type": "display_data"
    }
   ],
   "source": [
    "plt.figure()\n",
    "# Pclass_plot = titanic_df['Pclass'].plot.bar()\n",
    "# plt.axhline(0, color='k')\n",
    "\n",
    "# Earlier version\n",
    "# Pclass_1['Pclass'].hist()\n",
    "# Pclass_2['Pclass'].hist()\n",
    "# Pclass_plot = Pclass_3['Pclass'].hist()\n",
    "# Pclass_plot.legend([\"Upper Class\", \"Middle Class\", \"Lower Class\"], loc='best')\n",
    "\n",
    "# Recommended Version\n",
    "titanic_df.groupby('Pclass')['PassengerId'].count().plot(kind='bar')\n",
    "plt.xticks([0,1,2], [\"Upper\", \"Middle\", \"Lower\"], rotation=45)\n",
    "plt.xlabel('Pclass')\n",
    "plt.ylabel('Frequency')\n",
    "plt.title('Pclass Bar plot')"
   ]
  },
  {
   "cell_type": "markdown",
   "metadata": {},
   "source": [
    "This histogram shows that the number of persons that belong to Lower Social and Economic Background boarded the ship in large number compared to the persons from the Upper and middle Social and Economic Background."
   ]
  },
  {
   "cell_type": "markdown",
   "metadata": {
    "collapsed": true
   },
   "source": [
    "## Tickets"
   ]
  },
  {
   "cell_type": "code",
   "execution_count": 69,
   "metadata": {
    "collapsed": false
   },
   "outputs": [],
   "source": [
    "tickets_split = titanic_df['Ticket'].str.split(' ')\n",
    "#tickets = tickets_split.apply(lambda df: df[len(df) - 1] if (int(df[len(df) - 1]) == False) else int(df[len(df) - 1]))"
   ]
  },
  {
   "cell_type": "code",
   "execution_count": 70,
   "metadata": {
    "collapsed": false
   },
   "outputs": [
    {
     "data": {
      "text/plain": [
       "['STON/O', '2.', '3101294']"
      ]
     },
     "execution_count": 70,
     "metadata": {},
     "output_type": "execute_result"
    }
   ],
   "source": [
    "tickets_split[115]"
   ]
  },
  {
   "cell_type": "markdown",
   "metadata": {},
   "source": [
    "## Factors for Survival\n",
    "\n",
    "## Sex"
   ]
  },
  {
   "cell_type": "code",
   "execution_count": 71,
   "metadata": {
    "collapsed": false
   },
   "outputs": [
    {
     "name": "stdout",
     "output_type": "stream",
     "text": [
      "577\n",
      "314\n"
     ]
    }
   ],
   "source": [
    "males_data = titanic_df[titanic_df['Sex'] == 'male']\n",
    "females_data = titanic_df[titanic_df['Sex'] == 'female']\n",
    "print len(males_data)\n",
    "print len(females_data)"
   ]
  },
  {
   "cell_type": "code",
   "execution_count": 72,
   "metadata": {
    "collapsed": true
   },
   "outputs": [],
   "source": [
    "def survival_ratio(df):\n",
    "    survived = df[df['Survived'] == 1]\n",
    "    return [len(survived), len(df), (float)(len(survived)) / len(df)]"
   ]
  },
  {
   "cell_type": "code",
   "execution_count": 73,
   "metadata": {
    "collapsed": false
   },
   "outputs": [
    {
     "name": "stdout",
     "output_type": "stream",
     "text": [
      "[109, 577, 0.18890814558058924]\n"
     ]
    }
   ],
   "source": [
    "print survival_ratio(males_data)"
   ]
  },
  {
   "cell_type": "code",
   "execution_count": 74,
   "metadata": {
    "collapsed": false
   },
   "outputs": [
    {
     "name": "stdout",
     "output_type": "stream",
     "text": [
      "[233, 314, 0.7420382165605095]\n"
     ]
    }
   ],
   "source": [
    "print survival_ratio(females_data)"
   ]
  },
  {
   "cell_type": "markdown",
   "metadata": {},
   "source": [
    "So a female had a higher chance of surviving than a male."
   ]
  },
  {
   "cell_type": "code",
   "execution_count": 75,
   "metadata": {
    "collapsed": false
   },
   "outputs": [
    {
     "name": "stdout",
     "output_type": "stream",
     "text": [
      "[342, 891, 0.3838383838383838]\n"
     ]
    }
   ],
   "source": [
    "print survival_ratio(titanic_df)"
   ]
  },
  {
   "cell_type": "markdown",
   "metadata": {},
   "source": [
    "The probability of a survivor being a male.(Bayesian Probability)"
   ]
  },
  {
   "cell_type": "code",
   "execution_count": 76,
   "metadata": {
    "collapsed": false
   },
   "outputs": [],
   "source": [
    "male_if_survived =  (survival_ratio(males_data)[2] * (float (577) / 891)) / survival_ratio(titanic_df)[2]"
   ]
  },
  {
   "cell_type": "markdown",
   "metadata": {},
   "source": [
    "The probability of a survivor being a female.(Bayesian Probability)"
   ]
  },
  {
   "cell_type": "code",
   "execution_count": 77,
   "metadata": {
    "collapsed": false
   },
   "outputs": [],
   "source": [
    "female_if_survived = (survival_ratio(females_data)[2] * (float (314) / 891)) / survival_ratio(titanic_df)[2]"
   ]
  },
  {
   "cell_type": "code",
   "execution_count": 78,
   "metadata": {
    "collapsed": false,
    "scrolled": false
   },
   "outputs": [
    {
     "data": {
      "text/plain": [
       "<matplotlib.text.Text at 0xeab20b8>"
      ]
     },
     "execution_count": 78,
     "metadata": {},
     "output_type": "execute_result"
    },
    {
     "data": {
      "image/png": "[encoded data removed]",
      "text/plain": [
       "<matplotlib.figure.Figure at 0xcaa41d0>"
      ]
     },
     "metadata": {},
     "output_type": "display_data"
    }
   ],
   "source": [
    "sex = ['male', 'female']\n",
    "x = range(2)\n",
    "sex_survival_ratio = [survival_ratio(males_data)[2], survival_ratio(females_data)[2]] \n",
    "pylab.xticks(x, sex)\n",
    "\n",
    "sex_plot = plt.bar(x, sex_survival_ratio, color=['b', 'r'], align='center')\n",
    "plt.xlabel('Sex')\n",
    "plt.ylabel('Survival')\n",
    "plt.title('Line Plot')"
   ]
  },
  {
   "cell_type": "markdown",
   "metadata": {},
   "source": [
    "This shows the chance of survial of a Male and a Female in the Titanic mishap Graphically."
   ]
  },
  {
   "cell_type": "markdown",
   "metadata": {},
   "source": [
    "This analysis shows that among the survivors, there was more than double the chances of a person being a female than the male. This suggests that saving the females was kind of a priority than saving the males or that somehow females were more resilient to the natural conditions on that day than the males.\n",
    "<br/>\n",
    "Since the sample size is not big enough, we can't be sure of the accuracy of these results."
   ]
  },
  {
   "cell_type": "markdown",
   "metadata": {},
   "source": [
    "## Pclass"
   ]
  },
  {
   "cell_type": "code",
   "execution_count": 79,
   "metadata": {
    "collapsed": false
   },
   "outputs": [
    {
     "name": "stdout",
     "output_type": "stream",
     "text": [
      "491 184 216\n"
     ]
    }
   ],
   "source": [
    "lower_class = titanic_df[titanic_df['Pclass'] == 3]\n",
    "middle_class = titanic_df[titanic_df['Pclass'] == 2]\n",
    "upper_class = titanic_df[titanic_df['Pclass'] == 1]\n",
    "print len(lower_class), len(middle_class), len(upper_class)"
   ]
  },
  {
   "cell_type": "code",
   "execution_count": 80,
   "metadata": {
    "collapsed": false
   },
   "outputs": [
    {
     "name": "stdout",
     "output_type": "stream",
     "text": [
      "[119, 491, 0.24236252545824846]\n",
      "[87, 184, 0.47282608695652173]\n",
      "[136, 216, 0.6296296296296297]\n"
     ]
    }
   ],
   "source": [
    "print survival_ratio (lower_class)\n",
    "print survival_ratio (middle_class)\n",
    "print survival_ratio (upper_class)\n"
   ]
  },
  {
   "cell_type": "code",
   "execution_count": 81,
   "metadata": {
    "collapsed": false
   },
   "outputs": [
    {
     "data": {
      "text/plain": [
       "<matplotlib.text.Text at 0xecdbba8>"
      ]
     },
     "execution_count": 81,
     "metadata": {},
     "output_type": "execute_result"
    },
    {
     "data": {
      "image/png": "[encoded data removed]",
      "text/plain": [
       "<matplotlib.figure.Figure at 0xeb81978>"
      ]
     },
     "metadata": {},
     "output_type": "display_data"
    }
   ],
   "source": [
    "x = range(3)\n",
    "X_values = ['Lower Class', 'Middle Class', 'Upper Class']\n",
    "Pclass_survival = [survival_ratio (lower_class)[2], survival_ratio (middle_class)[2], survival_ratio (upper_class)[2]]\n",
    "pylab.xticks(x, X_values)\n",
    "plt.bar(x, Pclass_survival, color=['b', 'r', 'g'], align='center')\n",
    "plt.xlabel('Social-Economic Class')\n",
    "plt.ylabel('Survival Ratio')\n",
    "plt.title('Pclass Survival Ratio')"
   ]
  },
  {
   "cell_type": "markdown",
   "metadata": {},
   "source": [
    "This plot shows that your chances of survival increases with the upgradation of your Social and Economic Class."
   ]
  },
  {
   "cell_type": "markdown",
   "metadata": {
    "collapsed": true
   },
   "source": [
    "So it necessarily means that the Socio-Economic Status did play a role in the Survival of the Passengers. From the data available we can infer that :\n",
    "<br/>\n",
    "* A person from Lower Class) had just 24% chance of getting saved or Survival.\n",
    "* A person form a Middle class had a 47% Chance of getting saved or survival.\n",
    "* A Perosn form a Upper Class had a staggering 62% Chance of survival.\n",
    "\n",
    "It shows that a person with more resources, connections and Money had a better chance of survival.\n"
   ]
  },
  {
   "cell_type": "markdown",
   "metadata": {},
   "source": [
    "## Parch"
   ]
  },
  {
   "cell_type": "code",
   "execution_count": 82,
   "metadata": {
    "collapsed": false
   },
   "outputs": [],
   "source": [
    "## make a group of titanic database based on Parch \n",
    "## calculate the survival ratio of each group formed.\n",
    "Parch_survival_ratio = titanic_df.groupby('Parch').apply(lambda df: survival_ratio(df))"
   ]
  },
  {
   "cell_type": "code",
   "execution_count": 83,
   "metadata": {
    "collapsed": false
   },
   "outputs": [
    {
     "data": {
      "text/plain": [
       "Parch\n",
       "0    [233, 678, 0.343657817109]\n",
       "1     [65, 118, 0.550847457627]\n",
       "2                 [40, 80, 0.5]\n",
       "3                   [3, 5, 0.6]\n",
       "4                   [0, 4, 0.0]\n",
       "5                   [1, 5, 0.2]\n",
       "6                   [0, 1, 0.0]\n",
       "dtype: object"
      ]
     },
     "execution_count": 83,
     "metadata": {},
     "output_type": "execute_result"
    }
   ],
   "source": [
    "Parch_survival_ratio"
   ]
  },
  {
   "cell_type": "markdown",
   "metadata": {},
   "source": [
    "This shows that having a Parent or child or both aboard on the ship could have increased the chances of survival of that person."
   ]
  },
  {
   "cell_type": "markdown",
   "metadata": {},
   "source": [
    " ## Sibsp"
   ]
  },
  {
   "cell_type": "code",
   "execution_count": 84,
   "metadata": {
    "collapsed": false
   },
   "outputs": [],
   "source": [
    "## make a group of titanic database based on Sibsp. \n",
    "## calculate the survival ratio of each group formed.\n",
    "SibSp_survival_ratio = titanic_df.groupby('SibSp').apply(lambda df: survival_ratio(df))"
   ]
  },
  {
   "cell_type": "code",
   "execution_count": 85,
   "metadata": {
    "collapsed": false
   },
   "outputs": [
    {
     "data": {
      "text/plain": [
       "SibSp\n",
       "0    [210, 608, 0.345394736842]\n",
       "1    [112, 209, 0.535885167464]\n",
       "2      [13, 28, 0.464285714286]\n",
       "3                 [4, 16, 0.25]\n",
       "4       [3, 18, 0.166666666667]\n",
       "5                   [0, 5, 0.0]\n",
       "8                   [0, 7, 0.0]\n",
       "dtype: object"
      ]
     },
     "execution_count": 85,
     "metadata": {},
     "output_type": "execute_result"
    }
   ],
   "source": [
    "SibSp_survival_ratio"
   ]
  },
  {
   "cell_type": "markdown",
   "metadata": {
    "collapsed": true
   },
   "source": [
    "This shows that having a spouse or a sibling along with the person on the ship increased the chance of survival of that person."
   ]
  },
  {
   "cell_type": "markdown",
   "metadata": {
    "collapsed": true
   },
   "source": [
    "## Parch and Sibsp"
   ]
  },
  {
   "cell_type": "markdown",
   "metadata": {},
   "source": [
    "Since the no of persons belonging to the category of having 2 to 6 Parents or Child aboard on the ship are less. The population from this sample won't resemble a randon sample but a specific set of persons which is not good for statistical analysis. So we won't include the people's from these categories in our statistical analysis anymore."
   ]
  },
  {
   "cell_type": "markdown",
   "metadata": {},
   "source": [
    "Since the he no of persons belonging to the category of having 2 to 8 Spouse or Siblings aboard on the ship are less. The population from this sample won't resemble a randon sample but a specific set of persons which is not good for statistical analysis. So we won't include the people's from these categories in our statistical analysis anymore."
   ]
  },
  {
   "cell_type": "code",
   "execution_count": 86,
   "metadata": {
    "collapsed": false
   },
   "outputs": [
    {
     "data": {
      "text/plain": [
       "755"
      ]
     },
     "execution_count": 86,
     "metadata": {},
     "output_type": "execute_result"
    }
   ],
   "source": [
    "## create a dataFrame that would include the persons that had either no Parch and Sibsp or one Parch and Sibsp.\n",
    "Parch_df = titanic_df[(titanic_df['Parch'].isin([0,1]))]\n",
    "Parch_SibSp = Parch_df[Parch_df['SibSp'].isin([0,1])]\n",
    "len(Parch_SibSp)"
   ]
  },
  {
   "cell_type": "code",
   "execution_count": 87,
   "metadata": {
    "collapsed": false
   },
   "outputs": [
    {
     "name": "stdout",
     "output_type": "stream",
     "text": [
      "Parch  SibSp\n",
      "0      0        [163, 537, 0.303538175047]\n",
      "       1         [64, 123, 0.520325203252]\n",
      "1      0          [25, 38, 0.657894736842]\n",
      "       1           [34, 57, 0.59649122807]\n",
      "dtype: object\n"
     ]
    }
   ],
   "source": [
    "Parch_Sibsp_survival_df = Parch_SibSp.groupby(['Parch', 'SibSp']).apply(lambda df: survival_ratio(df))\n",
    "print Parch_Sibsp_survival_df"
   ]
  },
  {
   "cell_type": "code",
   "execution_count": 88,
   "metadata": {
    "collapsed": false
   },
   "outputs": [
    {
     "data": {
      "text/plain": [
       "<matplotlib.text.Text at 0xee1e908>"
      ]
     },
     "execution_count": 88,
     "metadata": {},
     "output_type": "execute_result"
    },
    {
     "data": {
      "image/png": "[encoded data removed]",
      "text/plain": [
       "<matplotlib.figure.Figure at 0xe857630>"
      ]
     },
     "metadata": {},
     "output_type": "display_data"
    }
   ],
   "source": [
    "x = range(4)\n",
    "X_values = ['0 P & 0 Sibsp', '0 Parch & 1 Sibsp', '1 Parch & 0 Sibsp', '1 Parch & 1 Sibsp']\n",
    "Pclass_Sibsp_survival_ratio = [Parch_Sibsp_survival_df[0][0][2], Parch_Sibsp_survival_df[0][1][2], \\\n",
    "                               Parch_Sibsp_survival_df[1][0][2], Parch_Sibsp_survival_df[1][1][2]]\n",
    "pylab.xticks(x, X_values, rotation=45) \n",
    "plt.bar(x, Pclass_Sibsp_survival_ratio, color=['b', 'r', 'g', 'y'], align='center')\n",
    "plt.xlabel('Pclass and Sibsp')\n",
    "plt.ylabel('Survival Ratio')\n",
    "plt.title('Pclass and Sibsp vs Survival')\n",
    "#lt.legend(X_values)"
   ]
  },
  {
   "cell_type": "markdown",
   "metadata": {},
   "source": [
    "This plot clearly shows that the survival chance of an individual increase if he or she has someone (parent, child, spouse or sibling) along with him on the ship. "
   ]
  },
  {
   "cell_type": "markdown",
   "metadata": {},
   "source": [
    "The above information states the survival ratio in four instances.\n",
    "<br/>\n",
    "* Having no Parent, child, Spouse or Sibling. (A)\n",
    "* Having one Parent or child and no Spouse or Sibling. (B)\n",
    "* Having no Parent or child and one Spouse or Sibling. (C)\n",
    "* Having one Parent or child and one Spouse or Sibling. (D)\n",
    "\n",
    "survival ratios:\n",
    "* A = 0.303538175047\n",
    "* B = 0.657894736842\n",
    "* C = 0.520325203252\n",
    "* D = 0.59649122807\n",
    "\n",
    "Comparing the above results we can clearly see that survival ratio for B,C and D is substantially more than that of A.\n",
    "Having a Parent or Child and a Spouse or Sibling substantially increases the chance of Survival in the Titanic mishap."
   ]
  },
  {
   "cell_type": "markdown",
   "metadata": {},
   "source": [
    "### Finding the significance of Sex and combination of Parch and Sibsp"
   ]
  },
  {
   "cell_type": "code",
   "execution_count": 89,
   "metadata": {
    "collapsed": false
   },
   "outputs": [
    {
     "name": "stdout",
     "output_type": "stream",
     "text": [
      "516 239\n"
     ]
    }
   ],
   "source": [
    "## create two different df for Males and Females\n",
    "Parch_SibSp_male = Parch_SibSp[Parch_SibSp['Sex'] == 'male']\n",
    "Parch_SibSp_female = Parch_SibSp[Parch_SibSp['Sex'] == 'female']\n",
    "print len(Parch_SibSp_male), len(Parch_SibSp_female)"
   ]
  },
  {
   "cell_type": "code",
   "execution_count": 90,
   "metadata": {
    "collapsed": false
   },
   "outputs": [
    {
     "data": {
      "text/plain": [
       "Parch  SibSp\n",
       "0      0        [64, 411, 0.155717761557]\n",
       "       1         [14, 60, 0.233333333333]\n",
       "1      0          [4, 14, 0.285714285714]\n",
       "       1         [14, 31, 0.451612903226]\n",
       "dtype: object"
      ]
     },
     "execution_count": 90,
     "metadata": {},
     "output_type": "execute_result"
    }
   ],
   "source": [
    "## shows the survival ratio of Males based on the Parch and Sibsp.\n",
    "Parch_SibSp_male.groupby(['Parch', 'SibSp']).apply(lambda df: survival_ratio(df))"
   ]
  },
  {
   "cell_type": "code",
   "execution_count": 91,
   "metadata": {
    "collapsed": false
   },
   "outputs": [
    {
     "data": {
      "text/plain": [
       "Parch  SibSp\n",
       "0      0        [99, 126, 0.785714285714]\n",
       "       1         [50, 63, 0.793650793651]\n",
       "1      0                  [21, 24, 0.875]\n",
       "       1         [20, 26, 0.769230769231]\n",
       "dtype: object"
      ]
     },
     "execution_count": 91,
     "metadata": {},
     "output_type": "execute_result"
    }
   ],
   "source": [
    "## shows the survival ratio of Females based on the Parch and Sibsp.\n",
    "Parch_SibSp_female.groupby(['Parch', 'SibSp']).apply(lambda df: survival_ratio(df))"
   ]
  },
  {
   "cell_type": "markdown",
   "metadata": {
    "collapsed": true
   },
   "source": [
    "The effect of Sex and Parch and Sibsp on the chances of Survival\n",
    "* The above data shows that for a female having a Parent or Child and a Spouse or Sibling didn't affect the chance of survival significantly.\n",
    "<br/>\n",
    "* But for a male the chances of survival increased substantially by just having a Parent or child and a Spouse or Sibling.\n",
    "* By this I can conclude that having a Parent or child and a Spouse or Sibling played it's part in increasing the chances of survival of a Male but not in the case of a Female.\n"
   ]
  },
  {
   "cell_type": "markdown",
   "metadata": {},
   "source": [
    "## Fare and Pclass\n"
   ]
  },
  {
   "cell_type": "code",
   "execution_count": 92,
   "metadata": {
    "collapsed": false
   },
   "outputs": [
    {
     "data": {
      "text/plain": [
       "<matplotlib.text.Text at 0xf08dcc0>"
      ]
     },
     "execution_count": 92,
     "metadata": {},
     "output_type": "execute_result"
    },
    {
     "data": {
      "image/png": "[encoded data removed]",
      "text/plain": [
       "<matplotlib.figure.Figure at 0xecc57f0>"
      ]
     },
     "metadata": {},
     "output_type": "display_data"
    }
   ],
   "source": [
    "Pclass1_hist = Pclass_1['Fare'].hist(bins = 25);\n",
    "plt.xlabel('Fare')\n",
    "plt.ylabel('Frequency')\n",
    "plt.title('Pclass 1 people\\'s Fare')"
   ]
  },
  {
   "cell_type": "code",
   "execution_count": 93,
   "metadata": {
    "collapsed": false
   },
   "outputs": [
    {
     "data": {
      "text/plain": [
       "count    216.000000\n",
       "mean      84.154687\n",
       "std       78.380373\n",
       "min        0.000000\n",
       "25%       30.923950\n",
       "50%       60.287500\n",
       "75%       93.500000\n",
       "max      512.329200\n",
       "Name: Fare, dtype: float64"
      ]
     },
     "execution_count": 93,
     "metadata": {},
     "output_type": "execute_result"
    }
   ],
   "source": [
    "Pclass_1['Fare'].describe()"
   ]
  },
  {
   "cell_type": "markdown",
   "metadata": {},
   "source": [
    "* This histogram shows that among the people belonging to the Upper class 20 to 100 seems to be most common or most choosen fare for the ticket. \n",
    "* It also shows that there were some mega rich persons who were able to pay 200 or 500 price for the ticket of the Titanic Ship."
   ]
  },
  {
   "cell_type": "code",
   "execution_count": 94,
   "metadata": {
    "collapsed": false
   },
   "outputs": [
    {
     "data": {
      "text/plain": [
       "<matplotlib.text.Text at 0xf5ee3c8>"
      ]
     },
     "execution_count": 94,
     "metadata": {},
     "output_type": "execute_result"
    },
    {
     "data": {
      "image/png": "[encoded data removed]",
      "text/plain": [
       "<matplotlib.figure.Figure at 0xf2f1a58>"
      ]
     },
     "metadata": {},
     "output_type": "display_data"
    }
   ],
   "source": [
    "Pclass_2['Fare'].hist(bins = 15)\n",
    "plt.xlabel('Fare')\n",
    "plt.ylabel('Frequency')\n",
    "plt.title('Pclass 2 people\\'s Fare')"
   ]
  },
  {
   "cell_type": "code",
   "execution_count": 95,
   "metadata": {
    "collapsed": false
   },
   "outputs": [
    {
     "data": {
      "text/plain": [
       "count    184.000000\n",
       "mean      20.662183\n",
       "std       13.417399\n",
       "min        0.000000\n",
       "25%       13.000000\n",
       "50%       14.250000\n",
       "75%       26.000000\n",
       "max       73.500000\n",
       "Name: Fare, dtype: float64"
      ]
     },
     "execution_count": 95,
     "metadata": {},
     "output_type": "execute_result"
    }
   ],
   "source": [
    "Pclass_2['Fare'].describe()"
   ]
  },
  {
   "cell_type": "markdown",
   "metadata": {},
   "source": [
    "* The histogram shows that among the people belonging to the middle class 10 to 15 appears to be the most common choice of fare they were willing to pay for the ride in Titanic.\n",
    "- 20 seems to be the mean price for the population belonging to the Middle class."
   ]
  },
  {
   "cell_type": "code",
   "execution_count": 96,
   "metadata": {
    "collapsed": false,
    "scrolled": true
   },
   "outputs": [
    {
     "data": {
      "text/plain": [
       "<matplotlib.text.Text at 0xf8f9390>"
      ]
     },
     "execution_count": 96,
     "metadata": {},
     "output_type": "execute_result"
    },
    {
     "data": {
      "image/png": "[encoded data removed]",
      "text/plain": [
       "<matplotlib.figure.Figure at 0xf0616a0>"
      ]
     },
     "metadata": {},
     "output_type": "display_data"
    }
   ],
   "source": [
    "Pclass_3['Fare'].hist(bins = 14)\n",
    "plt.xlabel('Fare')\n",
    "plt.ylabel('Frequency')\n",
    "plt.title('Pclass 1 people\\'s Fare')"
   ]
  },
  {
   "cell_type": "code",
   "execution_count": 97,
   "metadata": {
    "collapsed": false
   },
   "outputs": [
    {
     "data": {
      "text/plain": [
       "count    491.000000\n",
       "mean      13.675550\n",
       "std       11.778142\n",
       "min        0.000000\n",
       "25%        7.750000\n",
       "50%        8.050000\n",
       "75%       15.500000\n",
       "max       69.550000\n",
       "Name: Fare, dtype: float64"
      ]
     },
     "execution_count": 97,
     "metadata": {},
     "output_type": "execute_result"
    }
   ],
   "source": [
    "Pclass_3['Fare'].describe()"
   ]
  },
  {
   "cell_type": "markdown",
   "metadata": {},
   "source": [
    "* The histogram show that among the people belonging to the Lower class 5 to 10 appears to be the most common choice.\n",
    "* 13 seems to the mean fare price for the population belonging to the lower class."
   ]
  },
  {
   "cell_type": "markdown",
   "metadata": {},
   "source": [
    "This analysis shows that fare is somewhat related to the Social Economic status of the person. It simply means tha a person would pay a fare for the ticket of Titanic that would match his Social Economic Status."
   ]
  },
  {
   "cell_type": "markdown",
   "metadata": {},
   "source": [
    "## Embarkation and Survival"
   ]
  },
  {
   "cell_type": "code",
   "execution_count": 98,
   "metadata": {
    "collapsed": false
   },
   "outputs": [],
   "source": [
    "embarkation_s = titanic_df[titanic_df['Embarked'] == 'S']\n",
    "embarkation_q = titanic_df[titanic_df['Embarked'] == 'Q']\n",
    "embarkation_c = titanic_df[titanic_df['Embarked'] == 'C']"
   ]
  },
  {
   "cell_type": "code",
   "execution_count": 99,
   "metadata": {
    "collapsed": false
   },
   "outputs": [
    {
     "data": {
      "text/plain": [
       "[219, 646, 0.33900928792569657]"
      ]
     },
     "execution_count": 99,
     "metadata": {},
     "output_type": "execute_result"
    }
   ],
   "source": [
    "survival_ratio(embarkation_s)"
   ]
  },
  {
   "cell_type": "code",
   "execution_count": 100,
   "metadata": {
    "collapsed": false
   },
   "outputs": [
    {
     "data": {
      "text/plain": [
       "[30, 77, 0.38961038961038963]"
      ]
     },
     "execution_count": 100,
     "metadata": {},
     "output_type": "execute_result"
    }
   ],
   "source": [
    "survival_ratio(embarkation_q)"
   ]
  },
  {
   "cell_type": "code",
   "execution_count": 101,
   "metadata": {
    "collapsed": false
   },
   "outputs": [
    {
     "data": {
      "text/plain": [
       "[93, 168, 0.5535714285714286]"
      ]
     },
     "execution_count": 101,
     "metadata": {},
     "output_type": "execute_result"
    }
   ],
   "source": [
    "survival_ratio(embarkation_c)"
   ]
  },
  {
   "cell_type": "markdown",
   "metadata": {},
   "source": [
    "This data is pointing to the fact that people embarked from point form 'C' supposedly had a better chance of survival. \n",
    "<br/>\n",
    "There may be a correlation but we can't consider it to be a causation as many lure varaibles are not controlled."
   ]
  },
  {
   "cell_type": "markdown",
   "metadata": {},
   "source": [
    "## Age"
   ]
  },
  {
   "cell_type": "code",
   "execution_count": 102,
   "metadata": {
    "collapsed": false
   },
   "outputs": [
    {
     "name": "stdout",
     "output_type": "stream",
     "text": [
      "64 115 230 155 86 64\n"
     ]
    }
   ],
   "source": [
    "age_0_to_10 = titanic_df[(titanic_df['Age'] <=10) & (titanic_df['Age'] > 0)]\n",
    "age_11_to_20 = titanic_df[(titanic_df['Age'] <= 20) & (titanic_df['Age'] > 10)]\n",
    "age_21_to_30 = titanic_df[(titanic_df['Age'] <= 30) & (titanic_df['Age'] > 20)]\n",
    "age_31_to_40 = titanic_df[(titanic_df['Age'] <= 40) & (titanic_df['Age'] > 30)]\n",
    "age_41_to_50 = titanic_df[(titanic_df['Age'] <= 50) & (titanic_df['Age'] > 40)]\n",
    "age_above_50 = titanic_df[titanic_df['Age'] > 50]\n",
    "\n",
    "print len(age_0_to_10), len(age_11_to_20), len(age_21_to_30), len(age_31_to_40), len(age_41_to_50), len(age_above_50)"
   ]
  },
  {
   "cell_type": "markdown",
   "metadata": {},
   "source": [
    "Age is something which can't be ignored when it comes to the factors that could have influenced the survival chance. I have tried to differentiate the population that boarded the ship based on the age interval they belonged to. I have made 6 intervals.\n",
    "* Age 0 to 10 \n",
    "* Age 11 to 20 \n",
    "* Age 21 to 30 \n",
    "* Age 31 to 40 \n",
    "* Age 41 to 50 \n",
    "* Age above 50\n",
    "\n",
    "\n",
    "I have made these intervals to analyze the role of the age in the survival of a person. "
   ]
  },
  {
   "cell_type": "code",
   "execution_count": 103,
   "metadata": {
    "collapsed": false
   },
   "outputs": [
    {
     "data": {
      "text/plain": [
       "[38, 64, 0.59375]"
      ]
     },
     "execution_count": 103,
     "metadata": {},
     "output_type": "execute_result"
    }
   ],
   "source": [
    "survival_ratio(age_0_to_10)"
   ]
  },
  {
   "cell_type": "code",
   "execution_count": 104,
   "metadata": {
    "collapsed": false
   },
   "outputs": [
    {
     "data": {
      "text/plain": [
       "[44, 115, 0.3826086956521739]"
      ]
     },
     "execution_count": 104,
     "metadata": {},
     "output_type": "execute_result"
    }
   ],
   "source": [
    "survival_ratio(age_11_to_20)"
   ]
  },
  {
   "cell_type": "code",
   "execution_count": 105,
   "metadata": {
    "collapsed": false
   },
   "outputs": [
    {
     "data": {
      "text/plain": [
       "[84, 230, 0.3652173913043478]"
      ]
     },
     "execution_count": 105,
     "metadata": {},
     "output_type": "execute_result"
    }
   ],
   "source": [
    "survival_ratio(age_21_to_30)"
   ]
  },
  {
   "cell_type": "code",
   "execution_count": 106,
   "metadata": {
    "collapsed": false
   },
   "outputs": [
    {
     "data": {
      "text/plain": [
       "[69, 155, 0.44516129032258067]"
      ]
     },
     "execution_count": 106,
     "metadata": {},
     "output_type": "execute_result"
    }
   ],
   "source": [
    "survival_ratio(age_31_to_40)"
   ]
  },
  {
   "cell_type": "code",
   "execution_count": 107,
   "metadata": {
    "collapsed": false
   },
   "outputs": [
    {
     "data": {
      "text/plain": [
       "[33, 86, 0.38372093023255816]"
      ]
     },
     "execution_count": 107,
     "metadata": {},
     "output_type": "execute_result"
    }
   ],
   "source": [
    "survival_ratio(age_41_to_50)"
   ]
  },
  {
   "cell_type": "code",
   "execution_count": 108,
   "metadata": {
    "collapsed": false
   },
   "outputs": [
    {
     "data": {
      "text/plain": [
       "[22, 64, 0.34375]"
      ]
     },
     "execution_count": 108,
     "metadata": {},
     "output_type": "execute_result"
    }
   ],
   "source": [
    "survival_ratio(age_above_50)"
   ]
  },
  {
   "cell_type": "code",
   "execution_count": 109,
   "metadata": {
    "collapsed": false
   },
   "outputs": [
    {
     "data": {
      "text/plain": [
       "<matplotlib.text.Text at 0xfc17128>"
      ]
     },
     "execution_count": 109,
     "metadata": {},
     "output_type": "execute_result"
    },
    {
     "data": {
      "image/png": "[encoded data removed]",
      "text/plain": [
       "<matplotlib.figure.Figure at 0xf080898>"
      ]
     },
     "metadata": {},
     "output_type": "display_data"
    }
   ],
   "source": [
    "## this line of code collects the survival ratio of all these age interval into a 'age_survival_ratio' List\n",
    "age_survival_ratio = [survival_ratio(age_0_to_10)[2], survival_ratio(age_11_to_20)[2], survival_ratio(age_21_to_30)[2],\\\n",
    "                           survival_ratio(age_31_to_40)[2], survival_ratio(age_41_to_50)[2], survival_ratio(age_above_50)[2]]\n",
    "\n",
    "x = range(6)\n",
    "X_values = ['0-10', '11-20', '21-30', '31-40', '41-50', 'Above 50']\n",
    "pylab.xticks(x,X_values)\n",
    "plt.plot(x, age_survival_ratio, 'g')\n",
    "plt.xlabel('Age')\n",
    "plt.ylabel('Survival Ratio')\n",
    "plt.title('Age Survival Ratio')"
   ]
  },
  {
   "cell_type": "markdown",
   "metadata": {},
   "source": [
    "The above plot shows some very interesting aspects about the survival of a person and their age. \n",
    "* The survival ratio of childrens from age 0 till 10 years seems to be the highest. This could be dute to the fact that saving the newborn and children of smaller age was kind of given a preference. \n",
    "* The survival ratio of teenagers fells drastically as compared to the very young childrens. \n",
    "* The survival raito of young adults (21 to 30) seems to be the lowest of all.\n",
    "* The survival ratio of adults from 31 to 40 very more likey to be saved than the persons from (21 to 30) or (41 to 50). In my opinion it is due to the fact they had been working for some time now and had saved a lot of money which when combined with the \n",
    "fact they still had a lot of years to live made them more likely to survive.\n",
    "* The survival ratio of persons belonging to (41 to 50) and above 50 continues to fall. It may be due to the fact that even though they might have had a lot of money, their days to live were outnumbered and hence there were less instances of their survival."
   ]
  },
  {
   "cell_type": "markdown",
   "metadata": {},
   "source": [
    "# Conclusion\n"
   ]
  },
  {
   "cell_type": "markdown",
   "metadata": {},
   "source": [
    "Before starting my analysis on this data set, I had a hypothesis that \n",
    "* somehow sex and age might have played a significant role in the survival of an individual. \n",
    "* Price of the ticket payed by an individual depended on the Social and economic class of that person.\n",
    "\n",
    "I founded that the survival of a person was likely to be affected by the following factors:\n",
    "* Sex\n",
    "* Age\n",
    "* Embarkation Point\n",
    "* Pclass\n",
    "* Parch and Sibsp\n",
    "\n",
    "All of these factors seem to have some effect on the survival chances of an individual in the Titanic Ship mishap. Even though some factors seem to have enough correlation to be considered as a causation, but we can't be sure of it. There are so many other factors or lure variables that are not controlled and hence the result can't be considered as a causation. \n",
    "<br/>\n",
    "It only means that these factors might have played their hand in the survival chance of an individual but we can't be sure of it.\n",
    "\n",
    "<br/>\n",
    "I also founded that Pclass and fare do have a kind of correlation. The people from upper class were more inclined to pay a heavy price for ticket. People from lower economic background spent less for the ticket.\n",
    "\n",
    "The titanic dataset gives very detailed information about the peoples that boarded the ship. Through the dataset provided I able to figure out the average age of individuals on the ship. The survival of an individual gave us some of the very special insights. I founded out what kind of factors were likey to influence the survival of an individual. I found that in these kind of tragerdies, more importance is given for the survival of the females and children. "
   ]
  }
 ],
 "metadata": {
  "anaconda-cloud": {},
  "kernelspec": {
   "display_name": "Python [default]",
   "language": "python",
   "name": "python2"
  },
  "language_info": {
   "codemirror_mode": {
    "name": "ipython",
    "version": 2
   },
   "file_extension": ".py",
   "mimetype": "text/x-python",
   "name": "python",
   "nbconvert_exporter": "python",
   "pygments_lexer": "ipython2",
   "version": "2.7.12"
  }
 },
 "nbformat": 4,
 "nbformat_minor": 1
}
